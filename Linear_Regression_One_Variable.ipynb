{
  "nbformat": 4,
  "nbformat_minor": 0,
  "metadata": {
    "colab": {
      "name": "Linear Regression One Variable.ipynb",
      "provenance": [],
      "collapsed_sections": [],
      "include_colab_link": true
    },
    "language_info": {
      "name": "python"
    },
    "kernelspec": {
      "name": "python3",
      "display_name": "Python 3"
    }
  },
  "cells": [
    {
      "cell_type": "markdown",
      "metadata": {
        "id": "view-in-github",
        "colab_type": "text"
      },
      "source": [
        "<a href=\"https://colab.research.google.com/github/SahilBharodiya/Machine_Learning_without_frameworks_in_python/blob/main/Linear_Regression_One_Variable.ipynb\" target=\"_parent\"><img src=\"https://colab.research.google.com/assets/colab-badge.svg\" alt=\"Open In Colab\"/></a>"
      ]
    },
    {
      "cell_type": "markdown",
      "metadata": {
        "id": "J_SE8C_4l3pY"
      },
      "source": [
        "### Mounting Google Drive"
      ]
    },
    {
      "cell_type": "code",
      "metadata": {
        "colab": {
          "base_uri": "https://localhost:8080/"
        },
        "id": "Bwce_pgZSKA2",
        "outputId": "bb2b0f7c-2ce5-42fb-dc41-662652e47b4d"
      },
      "source": [
        "from google.colab import drive\n",
        "drive.mount('/content/drive')"
      ],
      "execution_count": null,
      "outputs": [
        {
          "output_type": "stream",
          "text": [
            "Drive already mounted at /content/drive; to attempt to forcibly remount, call drive.mount(\"/content/drive\", force_remount=True).\n"
          ],
          "name": "stdout"
        }
      ]
    },
    {
      "cell_type": "markdown",
      "metadata": {
        "id": "3sd29NAbl_vc"
      },
      "source": [
        "### Importing required libraries"
      ]
    },
    {
      "cell_type": "code",
      "metadata": {
        "id": "dx0c2WSuRzep"
      },
      "source": [
        "import pandas as pd  # For reading csv files\n",
        "import numpy as np  # Array related work\n",
        "import matplotlib.pyplot as plt  # Plotting curves\n",
        "from math import sqrt  # For error analysis"
      ],
      "execution_count": null,
      "outputs": []
    },
    {
      "cell_type": "markdown",
      "metadata": {
        "id": "HtjUHwQamgp4"
      },
      "source": [
        "### Data preprocessing"
      ]
    },
    {
      "cell_type": "code",
      "metadata": {
        "id": "fgXJHuRZRzex"
      },
      "source": [
        "train = pd.read_csv('/content/drive/MyDrive/Colab Notebooks/ML without framworks/train_LR-one-variable.csv')  # Training data\n",
        "test = pd.read_csv('/content/drive/MyDrive/Colab Notebooks/ML without framworks/test_LR-one-variable.csv')  # Testing data"
      ],
      "execution_count": null,
      "outputs": []
    },
    {
      "cell_type": "code",
      "metadata": {
        "id": "0NC3i379YoE8"
      },
      "source": [
        "train = train.dropna()  # Removing NaN values\n",
        "test = test.dropna()  # Removing NaN values"
      ],
      "execution_count": null,
      "outputs": []
    },
    {
      "cell_type": "markdown",
      "metadata": {
        "id": "Q424yYlYmxgi"
      },
      "source": [
        "### Data Normalisation\n",
        "\n",
        "### $x = \\frac{x - mean} {max(X) - min(X)}$"
      ]
    },
    {
      "cell_type": "code",
      "metadata": {
        "id": "O2ZmvhSydZfo"
      },
      "source": [
        "def mean(x):  # Calculating Mean\n",
        "    return sum(x) / len(x)\n",
        "\n",
        "def Range(x):  # Calculating Range\n",
        "    return abs(max(x) - min(x))"
      ],
      "execution_count": null,
      "outputs": []
    },
    {
      "cell_type": "code",
      "metadata": {
        "id": "hgyQMYSseRLK"
      },
      "source": [
        "# Converting to Numpy array\n",
        "\n",
        "train_X = train['x']\n",
        "train_y = train['y']\n",
        "\n",
        "test_X = test['x']\n",
        "test_y = test['y']\n",
        "\n",
        "train_X = np.array(train_X)\n",
        "train_y = np.array(train_y)\n",
        "\n",
        "test_X = np.array(test_X)\n",
        "test_y = np.array(test_y)"
      ],
      "execution_count": null,
      "outputs": []
    },
    {
      "cell_type": "code",
      "metadata": {
        "id": "k9854NQaia1Q"
      },
      "source": [
        "train_X = (train_X - mean(train_X)) / Range(train_X)\n",
        "train_y = (train_y - mean(train_y)) / Range(train_y)\n",
        "\n",
        "test_X = (test_X - mean(test_X)) / Range(test_X)\n",
        "test_y = (test_y - mean(test_y)) / Range(test_y)"
      ],
      "execution_count": null,
      "outputs": []
    },
    {
      "cell_type": "markdown",
      "metadata": {
        "id": "jyyzzdAgneqw"
      },
      "source": [
        "### Creating Hypothesis Function\n",
        "$h_\\theta(x) = \\theta_0 + \\theta_1x $"
      ]
    },
    {
      "cell_type": "code",
      "metadata": {
        "id": "koSk1FJcZ14S"
      },
      "source": [
        "def h_theta(x, theta0, theta1):\n",
        "    return theta0 + theta1 * x"
      ],
      "execution_count": null,
      "outputs": []
    },
    {
      "cell_type": "markdown",
      "metadata": {
        "id": "LQrt1ClDnuKG"
      },
      "source": [
        "#### Random initialisation of $\\theta_0$ and $\\theta_1$ and setting $\\alpha$ (learning rate)"
      ]
    },
    {
      "cell_type": "code",
      "metadata": {
        "id": "dhUlKFMLRze0"
      },
      "source": [
        "theta0 = 0\n",
        "theta1 = 0\n",
        "\n",
        "alpha = 0.001\n",
        "m = len(train)"
      ],
      "execution_count": null,
      "outputs": []
    },
    {
      "cell_type": "markdown",
      "metadata": {
        "id": "SHbSl0iDoNZx"
      },
      "source": [
        "#### Keep changing $\\theta_0$ and $\\theta_1$ upto given iteration"
      ]
    },
    {
      "cell_type": "code",
      "metadata": {
        "id": "GI29Z2BkRze1"
      },
      "source": [
        "change_in_theta0 = 1.0\n",
        "change_in_theta1 = 1.0\n",
        "\n",
        "while True:\n",
        "    if (change_in_theta0 < 0.0000001) and (change_in_theta1 < 0.0000001):\n",
        "        break\n",
        "    else:\n",
        "        temp_theta0 = theta0\n",
        "        temp_theta1 = theta1\n",
        "\n",
        "        J1 = 0\n",
        "        J2 = 0\n",
        "        for i in range(m):\n",
        "            J1 += h_theta(train_X[i], theta0, theta1) - train_y[i]\n",
        "            J2 += (h_theta(train_X[i], theta0, theta1) - train_y[i]) * train_X[i]\n",
        "\n",
        "        theta0 = theta0 - alpha * J1 / m\n",
        "        theta1 = theta1 - alpha * J2 / m\n",
        "\n",
        "        change_in_theta0 = abs(temp_theta0 - theta0)\n",
        "        change_in_theta1 = abs(temp_theta1 - theta1)\n",
        "\n",
        "        print(theta0, theta0)\n",
        "print(\"Done\")"
      ],
      "execution_count": null,
      "outputs": []
    },
    {
      "cell_type": "markdown",
      "metadata": {
        "id": "JZOUYd8_oeBZ"
      },
      "source": [
        "#### Plotting Data and Prediction"
      ]
    },
    {
      "cell_type": "code",
      "metadata": {
        "colab": {
          "base_uri": "https://localhost:8080/",
          "height": 290
        },
        "id": "camh0aePRze3",
        "outputId": "ce63964b-7cc0-4769-82a4-39ca1dd038ff"
      },
      "source": [
        "plt.title(\"Training Data\", color='blue', size=25)\n",
        "plt.scatter(train_X, train_y, label='Actual', color='orange')\n",
        "plt.plot(train_X, [h_theta(i, theta0, theta1) for i in train_X], label='Predicted', color='green')\n",
        "plt.legend()\n",
        "plt.show()"
      ],
      "execution_count": null,
      "outputs": [
        {
          "output_type": "display_data",
          "data": {
            "image/png": "[encoded data removed]",
            "text/plain": [
              "<Figure size 432x288 with 1 Axes>"
            ]
          },
          "metadata": {
            "tags": [],
            "needs_background": "light"
          }
        }
      ]
    },
    {
      "cell_type": "markdown",
      "metadata": {
        "id": "yKPtTkMfojFP"
      },
      "source": [
        "### Calculating Root Mean Square Error (RMSE)\n",
        "\n",
        "### $RMSE = \\sqrt\\frac{\\sum_{i=1}^m (\\bar{y} - y)^2} {m}$"
      ]
    },
    {
      "cell_type": "code",
      "metadata": {
        "id": "QvlVLM1suSQy"
      },
      "source": [
        "predicted = [h_theta(i, theta0, theta1) for i in test_X]"
      ],
      "execution_count": null,
      "outputs": []
    },
    {
      "cell_type": "code",
      "metadata": {
        "id": "EJr5dgmNRze6"
      },
      "source": [
        "error = 0\n",
        "for i in range(len(test)):\n",
        "    error += (predicted[i] - test_y[i]) ** 2\n",
        "    \n",
        "error = \"%0.2f\" % sqrt(error / len(test))"
      ],
      "execution_count": null,
      "outputs": []
    },
    {
      "cell_type": "code",
      "metadata": {
        "colab": {
          "base_uri": "https://localhost:8080/",
          "height": 304
        },
        "id": "Tp-Ukw59cK1R",
        "outputId": "68b5ea3c-333b-46ff-8267-778b3bf6c957"
      },
      "source": [
        "plt.title(\"Testing Data\", color='blue', size=25)\n",
        "plt.xlabel(f'RMSE = {error}')\n",
        "plt.scatter(test_X, test_y, label='Actual', color='orange')\n",
        "plt.plot(test_X, predicted, label='Predicted', color='green')\n",
        "plt.legend()\n",
        "plt.show()"
      ],
      "execution_count": null,
      "outputs": [
        {
          "output_type": "display_data",
          "data": {
            "image/png": "[encoded data removed]",
            "text/plain": [
              "<Figure size 432x288 with 1 Axes>"
            ]
          },
          "metadata": {
            "tags": [],
            "needs_background": "light"
          }
        }
      ]
    },
    {
      "cell_type": "markdown",
      "metadata": {
        "id": "FNJavXlvpVGC"
      },
      "source": [
        "#### Derivation of Gradient Descent is in [this pdf](https://github.com/SahilBharodiya/Machine_Learning_without_frameworks_in_python/blob/main/Gradient%20Descent%20Linear%20Regression.pdf)"
      ]
    }
  ]
}