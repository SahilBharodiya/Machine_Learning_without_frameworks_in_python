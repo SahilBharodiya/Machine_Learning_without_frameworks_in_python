{
  "nbformat": 4,
  "nbformat_minor": 0,
  "metadata": {
    "colab": {
      "name": "Linear Regression Multi Variable.ipynb",
      "provenance": [],
      "collapsed_sections": [],
      "mount_file_id": "1b33SAXnsIzfWdPVZrhhr0No3vJmVJJeK",
      "authorship_tag": "ABX9TyOtH85aSCdwIBHHX9uEIRSJ",
      "include_colab_link": true
    },
    "kernelspec": {
      "display_name": "Python 3",
      "name": "python3"
    },
    "language_info": {
      "name": "python"
    }
  },
  "cells": [
    {
      "cell_type": "markdown",
      "metadata": {
        "id": "view-in-github",
        "colab_type": "text"
      },
      "source": [
        "<a href=\"https://colab.research.google.com/github/SahilBharodiya/Machine_Learning_without_frameworks_in_python/blob/main/Linear_Regression_Multi_Variable.ipynb\" target=\"_parent\"><img src=\"https://colab.research.google.com/assets/colab-badge.svg\" alt=\"Open In Colab\"/></a>"
      ]
    },
    {
      "cell_type": "markdown",
      "metadata": {
        "id": "I-25Bkc3dBEp"
      },
      "source": [
        "### Importing libraries for basic calculations"
      ]
    },
    {
      "cell_type": "code",
      "metadata": {
        "id": "eDKI37YaRzJW"
      },
      "source": [
        "import numpy as np  # For array related work\n",
        "import pandas as pd  # For reading csv files\n",
        "from math import sqrt  # For error analysis\n",
        "import matplotlib.pyplot as plt  # For plotting curves"
      ],
      "execution_count": null,
      "outputs": []
    },
    {
      "cell_type": "markdown",
      "metadata": {
        "id": "mqgPLsXZdSDo"
      },
      "source": [
        "### Reading data CSV files"
      ]
    },
    {
      "cell_type": "code",
      "metadata": {
        "id": "tjCKplJQR4BL"
      },
      "source": [
        "data = (pd.read_csv(\"/content/drive/MyDrive/Colab Notebooks/Real estate.csv\")).dropna()\n",
        "data = data.drop(columns=['No', 'X1 transaction date'])"
      ],
      "execution_count": null,
      "outputs": []
    },
    {
      "cell_type": "markdown",
      "metadata": {
        "id": "oR0q18XidfcP"
      },
      "source": [
        "#### Removing unneccessary data"
      ]
    },
    {
      "cell_type": "code",
      "metadata": {
        "id": "ypT8FTzWR-YV"
      },
      "source": [
        "X = data.drop(columns=['Y house price of unit area'])\n",
        "y = data['Y house price of unit area']"
      ],
      "execution_count": null,
      "outputs": []
    },
    {
      "cell_type": "code",
      "metadata": {
        "id": "ze0rD2uqSGTv"
      },
      "source": [
        "X = np.array(X)\n",
        "y = np.array(y)"
      ],
      "execution_count": null,
      "outputs": []
    },
    {
      "cell_type": "markdown",
      "metadata": {
        "id": "FTyjJF5odlmC"
      },
      "source": [
        "### Normalising data\n",
        "\n",
        "## $x = \\frac{x - mean}{max(X) - min(X)}$"
      ]
    },
    {
      "cell_type": "code",
      "metadata": {
        "id": "_Yrzw2mCTVD_"
      },
      "source": [
        "def mean(x):\n",
        "    return sum(x) / len(x)\n",
        "\n",
        "def Range(x):\n",
        "    return abs(max(x) - min(x))"
      ],
      "execution_count": null,
      "outputs": []
    },
    {
      "cell_type": "code",
      "metadata": {
        "id": "Sza-twsoRuM1"
      },
      "source": [
        "mean_X = [mean(X[:, i]) for i in range(5)]\n",
        "mean_y = mean(y)\n",
        "\n",
        "Range_X = [Range(X[:, i]) for i in range(5)]\n",
        "Range_y = Range(y)"
      ],
      "execution_count": null,
      "outputs": []
    },
    {
      "cell_type": "code",
      "metadata": {
        "id": "OqukcWZQTrjk"
      },
      "source": [
        "for i in range(5):\n",
        "    for j in range(len(X)):\n",
        "        X[j, i] = (X[j, i] - mean_X[i]) / Range_X[i]\n",
        "for i in range(len(y)):\n",
        "    y[i] = (y[i] - mean_y) / Range_y"
      ],
      "execution_count": null,
      "outputs": []
    },
    {
      "cell_type": "markdown",
      "metadata": {
        "id": "2Cs7XOSMd_j4"
      },
      "source": [
        "### Converting data into matrix"
      ]
    },
    {
      "cell_type": "code",
      "metadata": {
        "id": "fwP_zk6ZNsiK"
      },
      "source": [
        "X = np.matrix(X)\n",
        "y = np.matrix(y).T"
      ],
      "execution_count": null,
      "outputs": []
    },
    {
      "cell_type": "markdown",
      "metadata": {
        "id": "UuBY2U5qeDMX"
      },
      "source": [
        "#### Random initialising of $\\theta$,  $\\triangle\\theta$ and setting $\\alpha$ ( learning rate )"
      ]
    },
    {
      "cell_type": "code",
      "metadata": {
        "id": "vpZJ7_BeSO3-"
      },
      "source": [
        "theta = np.matrix(np.array([0, 0, 0, 0, 0])).T\n",
        "change_theta = np.matrix(np.array([1, 1, 1, 1, 1])).T\n",
        "alpha = 0.1\n",
        "m = len(X)\n",
        "c = alpha / m"
      ],
      "execution_count": null,
      "outputs": []
    },
    {
      "cell_type": "markdown",
      "metadata": {
        "id": "tzCwx4MdyRqn"
      },
      "source": [
        "### Applying Gradient Descent"
      ]
    },
    {
      "cell_type": "code",
      "metadata": {
        "id": "eiuF7OIk5dYy"
      },
      "source": [
        "iter = 0\n",
        "while True:\n",
        "    if change_theta.max() < 0.00000000001:\n",
        "        break\n",
        "    else:\n",
        "        temp_theta = theta\n",
        "        theta = theta - c * X.T * (X * theta - y)\n",
        "        change_theta = abs(theta - temp_theta)\n",
        "        iter += 1\n",
        "        print(iter, \"\\n\", theta)"
      ],
      "execution_count": null,
      "outputs": []
    },
    {
      "cell_type": "markdown",
      "metadata": {
        "id": "ld0wgC6elMDD"
      },
      "source": [
        "### RMSE calculation\n",
        "\n",
        "### $RMSE = \\sqrt\\frac {\\sum_{i=0} ^ {m} (\\bar{y}_i - y_i)} {m}$"
      ]
    },
    {
      "cell_type": "code",
      "metadata": {
        "colab": {
          "base_uri": "https://localhost:8080/"
        },
        "id": "GvpeuffJXgLx",
        "outputId": "5bf0f0de-cd69-4a4b-da18-4df8ae20f3d9"
      },
      "source": [
        "error = 0\n",
        "for i in range(len(X)):\n",
        "    error += (X[i] * theta - y[i]) ** 2\n",
        "error = sqrt(error / m)\n",
        "error = \"%0.2f\" % error\n",
        "print(\"RMSE =\", error)"
      ],
      "execution_count": null,
      "outputs": [
        {
          "output_type": "stream",
          "text": [
            "RMSE = 0.08\n"
          ],
          "name": "stdout"
        }
      ]
    },
    {
      "cell_type": "markdown",
      "metadata": {
        "id": "JkQqtoUpV_LI"
      },
      "source": [
        "### Prediction"
      ]
    },
    {
      "cell_type": "code",
      "metadata": {
        "id": "5YBx6IWiQU8L"
      },
      "source": [
        "prediction = X * theta"
      ],
      "execution_count": null,
      "outputs": []
    },
    {
      "cell_type": "markdown",
      "metadata": {
        "id": "6IQewzGdmZM8"
      },
      "source": [
        "### Plotting Curve"
      ]
    },
    {
      "cell_type": "code",
      "metadata": {
        "colab": {
          "base_uri": "https://localhost:8080/",
          "height": 355
        },
        "id": "SgXL6uT5jUWM",
        "outputId": "2f681bdb-1c73-460e-b1d8-6b8bf03639f3"
      },
      "source": [
        "plt.figure(figsize=(10, 5))\n",
        "plt.title(\"Comparison of Actual values and Predicted values\", color='red', size=20)\n",
        "plt.xlabel(f'RMSE = {error}')\n",
        "plt.scatter([i for i in range(m)], np.array(y), label='Actual', color='green')\n",
        "plt.scatter([i for i in range(m)], np.array(prediction), label='Predicted', color='blue')\n",
        "plt.legend()\n",
        "plt.show()"
      ],
      "execution_count": null,
      "outputs": [
        {
          "output_type": "display_data",
          "data": {
            "image/png": "[encoded data removed]",
            "text/plain": [
              "<Figure size 720x360 with 1 Axes>"
            ]
          },
          "metadata": {
            "tags": [],
            "needs_background": "light"
          }
        }
      ]
    },
    {
      "cell_type": "markdown",
      "metadata": {
        "id": "6r2NV868MjtO"
      },
      "source": [
        "### This is Shortcut for finding optimal value of $\\theta$\n",
        "\n",
        "$\\theta = (X^TX)^{-1}Xy$\n",
        "\n",
        "##### *But if number of samples is greater then 10,000 then don't use it, go for above procedure"
      ]
    },
    {
      "cell_type": "code",
      "metadata": {
        "colab": {
          "base_uri": "https://localhost:8080/"
        },
        "id": "qY5u2Cq_T6XV",
        "outputId": "65915d04-4703-4992-b895-8d0326c3308b"
      },
      "source": [
        "actual_theta = (X.T * X).I * X.T * y\n",
        "actual_theta"
      ],
      "execution_count": null,
      "outputs": [
        {
          "output_type": "execute_result",
          "data": {
            "text/plain": [
              "matrix([[-0.10717523],\n",
              "        [-0.25053202],\n",
              "        [ 0.10582534],\n",
              "        [ 0.17853092],\n",
              "        [-0.00658669]])"
            ]
          },
          "metadata": {
            "tags": []
          },
          "execution_count": 14
        }
      ]
    },
    {
      "cell_type": "markdown",
      "metadata": {
        "id": "_wwWdWCvofqw"
      },
      "source": [
        "##### Derivation of Gradient Descent is in [this pdf](https://drive.google.com/file/d/1pCGHkHYa0pJH5q3C_hOTKNvGxzWzJ-3X/view?usp=sharing)"
      ]
    }
  ]
}