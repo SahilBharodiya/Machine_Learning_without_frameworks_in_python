{
  "nbformat": 4,
  "nbformat_minor": 0,
  "metadata": {
    "colab": {
      "name": "Logistic Regression.ipynb",
      "provenance": [],
      "collapsed_sections": [],
      "mount_file_id": "1-TFy_WUmoc3JSYnyUMDs83g-pa-n192B",
      "authorship_tag": "ABX9TyMa+1TBRnXGf6IdQDzaH9GM"
    },
    "kernelspec": {
      "name": "python3",
      "display_name": "Python 3"
    },
    "language_info": {
      "name": "python"
    }
  },
  "cells": [
    {
      "cell_type": "markdown",
      "metadata": {
        "id": "UmExWEVN-XAO"
      },
      "source": [
        "Importing libraries for basic calculation"
      ]
    },
    {
      "cell_type": "code",
      "metadata": {
        "id": "REuGPfmAozTk"
      },
      "source": [
        "import pandas as pd\n",
        "import numpy as np\n",
        "from math import sqrt, exp"
      ],
      "execution_count": null,
      "outputs": []
    },
    {
      "cell_type": "markdown",
      "metadata": {
        "id": "bjwKjiFi-dNN"
      },
      "source": [
        "Reading data"
      ]
    },
    {
      "cell_type": "code",
      "metadata": {
        "id": "LbQdBvWSpBlg"
      },
      "source": [
        "data = pd.read_csv('/content/drive/MyDrive/Colab Notebooks/ML without framworks/heart.csv')\n",
        "data = data.dropna()"
      ],
      "execution_count": null,
      "outputs": []
    },
    {
      "cell_type": "code",
      "metadata": {
        "colab": {
          "base_uri": "https://localhost:8080/",
          "height": 203
        },
        "id": "_94KP2dgpH8J",
        "outputId": "c7be6064-d616-4a3d-ffd5-8dd778e2616a"
      },
      "source": [
        "data.head()"
      ],
      "execution_count": null,
      "outputs": [
        {
          "output_type": "execute_result",
          "data": {
            "text/html": [
              "<div>\n",
              "<style scoped>\n",
              "    .dataframe tbody tr th:only-of-type {\n",
              "        vertical-align: middle;\n",
              "    }\n",
              "\n",
              "    .dataframe tbody tr th {\n",
              "        vertical-align: top;\n",
              "    }\n",
              "\n",
              "    .dataframe thead th {\n",
              "        text-align: right;\n",
              "    }\n",
              "</style>\n",
              "<table border=\"1\" class=\"dataframe\">\n",
              "  <thead>\n",
              "    <tr style=\"text-align: right;\">\n",
              "      <th></th>\n",
              "      <th>age</th>\n",
              "      <th>sex</th>\n",
              "      <th>cp</th>\n",
              "      <th>trestbps</th>\n",
              "      <th>chol</th>\n",
              "      <th>fbs</th>\n",
              "      <th>restecg</th>\n",
              "      <th>thalach</th>\n",
              "      <th>exang</th>\n",
              "      <th>oldpeak</th>\n",
              "      <th>slope</th>\n",
              "      <th>ca</th>\n",
              "      <th>thal</th>\n",
              "      <th>target</th>\n",
              "    </tr>\n",
              "  </thead>\n",
              "  <tbody>\n",
              "    <tr>\n",
              "      <th>0</th>\n",
              "      <td>63</td>\n",
              "      <td>1</td>\n",
              "      <td>3</td>\n",
              "      <td>145</td>\n",
              "      <td>233</td>\n",
              "      <td>1</td>\n",
              "      <td>0</td>\n",
              "      <td>150</td>\n",
              "      <td>0</td>\n",
              "      <td>2.3</td>\n",
              "      <td>0</td>\n",
              "      <td>0</td>\n",
              "      <td>1</td>\n",
              "      <td>1</td>\n",
              "    </tr>\n",
              "    <tr>\n",
              "      <th>1</th>\n",
              "      <td>37</td>\n",
              "      <td>1</td>\n",
              "      <td>2</td>\n",
              "      <td>130</td>\n",
              "      <td>250</td>\n",
              "      <td>0</td>\n",
              "      <td>1</td>\n",
              "      <td>187</td>\n",
              "      <td>0</td>\n",
              "      <td>3.5</td>\n",
              "      <td>0</td>\n",
              "      <td>0</td>\n",
              "      <td>2</td>\n",
              "      <td>1</td>\n",
              "    </tr>\n",
              "    <tr>\n",
              "      <th>2</th>\n",
              "      <td>41</td>\n",
              "      <td>0</td>\n",
              "      <td>1</td>\n",
              "      <td>130</td>\n",
              "      <td>204</td>\n",
              "      <td>0</td>\n",
              "      <td>0</td>\n",
              "      <td>172</td>\n",
              "      <td>0</td>\n",
              "      <td>1.4</td>\n",
              "      <td>2</td>\n",
              "      <td>0</td>\n",
              "      <td>2</td>\n",
              "      <td>1</td>\n",
              "    </tr>\n",
              "    <tr>\n",
              "      <th>3</th>\n",
              "      <td>56</td>\n",
              "      <td>1</td>\n",
              "      <td>1</td>\n",
              "      <td>120</td>\n",
              "      <td>236</td>\n",
              "      <td>0</td>\n",
              "      <td>1</td>\n",
              "      <td>178</td>\n",
              "      <td>0</td>\n",
              "      <td>0.8</td>\n",
              "      <td>2</td>\n",
              "      <td>0</td>\n",
              "      <td>2</td>\n",
              "      <td>1</td>\n",
              "    </tr>\n",
              "    <tr>\n",
              "      <th>4</th>\n",
              "      <td>57</td>\n",
              "      <td>0</td>\n",
              "      <td>0</td>\n",
              "      <td>120</td>\n",
              "      <td>354</td>\n",
              "      <td>0</td>\n",
              "      <td>1</td>\n",
              "      <td>163</td>\n",
              "      <td>1</td>\n",
              "      <td>0.6</td>\n",
              "      <td>2</td>\n",
              "      <td>0</td>\n",
              "      <td>2</td>\n",
              "      <td>1</td>\n",
              "    </tr>\n",
              "  </tbody>\n",
              "</table>\n",
              "</div>"
            ],
            "text/plain": [
              "   age  sex  cp  trestbps  chol  fbs  ...  exang  oldpeak  slope  ca  thal  target\n",
              "0   63    1   3       145   233    1  ...      0      2.3      0   0     1       1\n",
              "1   37    1   2       130   250    0  ...      0      3.5      0   0     2       1\n",
              "2   41    0   1       130   204    0  ...      0      1.4      2   0     2       1\n",
              "3   56    1   1       120   236    0  ...      0      0.8      2   0     2       1\n",
              "4   57    0   0       120   354    0  ...      1      0.6      2   0     2       1\n",
              "\n",
              "[5 rows x 14 columns]"
            ]
          },
          "metadata": {
            "tags": []
          },
          "execution_count": 3
        }
      ]
    },
    {
      "cell_type": "markdown",
      "metadata": {
        "id": "97VnkMNa-hE5"
      },
      "source": [
        "Creating features and label"
      ]
    },
    {
      "cell_type": "code",
      "metadata": {
        "id": "7ihVyCxvpJKx"
      },
      "source": [
        "X = data.drop(columns=['target'])\n",
        "y = data['target']\n",
        "\n",
        "X = np.array(X)\n",
        "y = np.array(y)"
      ],
      "execution_count": null,
      "outputs": []
    },
    {
      "cell_type": "markdown",
      "metadata": {
        "id": "JaUXVIDJ-laG"
      },
      "source": [
        "Normalising data\n",
        "\n",
        "##$x = \\frac{x - mean}{range(x)}$"
      ]
    },
    {
      "cell_type": "code",
      "metadata": {
        "id": "NVBFmUbMpZyT"
      },
      "source": [
        "def mean(x):\n",
        "    return sum(x) / len(x)\n",
        "\n",
        "def Range(x):\n",
        "    return abs(max(x) - min(x))"
      ],
      "execution_count": null,
      "outputs": []
    },
    {
      "cell_type": "code",
      "metadata": {
        "id": "R53hw8y8pbci"
      },
      "source": [
        "mean_X = [mean(X[:, i]) for i in range(13)]\n",
        "\n",
        "Range_X = [Range(X[:, i]) for i in range(13)]"
      ],
      "execution_count": null,
      "outputs": []
    },
    {
      "cell_type": "code",
      "metadata": {
        "id": "FMKrkM-QqC6k"
      },
      "source": [
        "for i in range(13):\n",
        "    for j in range(len(X)):\n",
        "        X[j, i] = (X[j, i] - mean_X[i]) / Range_X[i]"
      ],
      "execution_count": null,
      "outputs": []
    },
    {
      "cell_type": "markdown",
      "metadata": {
        "id": "eKcTLp8L_XxL"
      },
      "source": [
        "Creating sigmoid function\n",
        "\n",
        "##$\\sigma(x) = \\frac{1}{1 + e^{-x}}$"
      ]
    },
    {
      "cell_type": "code",
      "metadata": {
        "id": "MLUzH31k_UGV"
      },
      "source": [
        "def sigmoid(x):\n",
        "    mat = []\n",
        "    for i in range(len(x)):\n",
        "        mat.append(1 / (1 + exp(-1 * x[i, 0])))\n",
        "    return np.matrix(np.array(mat)).T"
      ],
      "execution_count": null,
      "outputs": []
    },
    {
      "cell_type": "code",
      "metadata": {
        "id": "9-G4w7duq8Ew"
      },
      "source": [
        "X = np.matrix(X)\n",
        "y = np.matrix(y).T"
      ],
      "execution_count": null,
      "outputs": []
    },
    {
      "cell_type": "code",
      "metadata": {
        "id": "My0sbrbxq8od"
      },
      "source": [
        "theta = np.matrix(np.zeros(13)).T\n",
        "change_theta = np.matrix(np.ones(13)).T\n",
        "\n",
        "alpha = 0.1\n",
        "m = len(X)\n",
        "c = alpha / m"
      ],
      "execution_count": null,
      "outputs": []
    },
    {
      "cell_type": "code",
      "metadata": {
        "id": "jOc4A1BLrBO0"
      },
      "source": [
        "iter = 0\n",
        "while True:\n",
        "    if change_theta.max() < 0.000000000000000001:\n",
        "        break\n",
        "    else:\n",
        "        temp_theta = theta\n",
        "        theta = theta - c * X.T * (sigmoid(X * theta) - y)\n",
        "        change_theta = abs(theta - temp_theta)\n",
        "        iter += 1\n",
        "        print(iter, \"\\n\", theta)"
      ],
      "execution_count": null,
      "outputs": []
    },
    {
      "cell_type": "markdown",
      "metadata": {
        "id": "meqWx8Iga4L3"
      },
      "source": [
        "Creating hypothesis function\n",
        "\n",
        "$h_\\theta(x) = g(\\theta^TX)$\n",
        "\n",
        "### $g(z) = \\frac{1}{1 + e^{-z}}$"
      ]
    },
    {
      "cell_type": "code",
      "metadata": {
        "id": "kiGpv1k_uw8M"
      },
      "source": [
        "def h_theta(x, theta):\n",
        "    def sig(x):\n",
        "        return 1 / (1 + exp(-1 * x[0, 0]))\n",
        "    \n",
        "    return sig(x * theta)"
      ],
      "execution_count": null,
      "outputs": []
    },
    {
      "cell_type": "code",
      "metadata": {
        "id": "FQXtBEBiwRsv"
      },
      "source": [
        "def predict(x):\n",
        "    if h_theta(x, theta) >= 0.5:\n",
        "        return 1\n",
        "    return 0"
      ],
      "execution_count": null,
      "outputs": []
    },
    {
      "cell_type": "markdown",
      "metadata": {
        "id": "5ht_qB_Rx-Kl"
      },
      "source": [
        "                                                           Actual\n",
        "                                                          1  |  0\n",
        "                                                         ---------\n",
        "                                                      1 | TP | FP | \n",
        "                                                     --- ---------  Predicted\n",
        "                                                      0 | FN | TN |\n",
        "                                                         ---------\n",
        "     "
      ]
    },
    {
      "cell_type": "code",
      "metadata": {
        "id": "DJp6AVn7xMP8"
      },
      "source": [
        "TP = 0\n",
        "FP = 0\n",
        "FN = 0\n",
        "TN = 0\n",
        "\n",
        "for i in range(len(X)):\n",
        "    if predict(X[i]) == 1 and y[i, 0] == 1:\n",
        "        TP += 1\n",
        "    if predict(X[i]) == 1 and y[i, 0] == 0:\n",
        "        FP += 1\n",
        "    if predict(X[i]) == 0 and y[i, 0] == 1:\n",
        "        FN += 1\n",
        "    if predict(X[i]) == 0 and y[i, 0] == 0:\n",
        "        TN += 1"
      ],
      "execution_count": null,
      "outputs": []
    },
    {
      "cell_type": "code",
      "metadata": {
        "id": "-4bsa7y70bNq"
      },
      "source": [
        "Precision = TP / (TP + FP)\n",
        "Recall = TP / (TP + FN)\n",
        "\n",
        "F1_score = (2 * Precision * Recall) / (Precision + Recall)"
      ],
      "execution_count": null,
      "outputs": []
    },
    {
      "cell_type": "code",
      "metadata": {
        "colab": {
          "base_uri": "https://localhost:8080/"
        },
        "id": "AeIrhd_B79bD",
        "outputId": "1f2a2a60-bcf4-488f-eec9-bd89daf1f3ea"
      },
      "source": [
        "print(f'Accuracy : {\"%0.2f\" % (F1_score * 100)} %')"
      ],
      "execution_count": null,
      "outputs": [
        {
          "output_type": "stream",
          "text": [
            "Accuracy : 86.71 %\n"
          ],
          "name": "stdout"
        }
      ]
    },
    {
      "cell_type": "markdown",
      "metadata": {
        "id": "qOJ02f7pK55I"
      },
      "source": [
        "[Derivation of Gradient Descent for Logistic Regression](https://github.com/SahilBharodiya/Machine_Learning_without_frameworks_in_python/blob/main/Gradient%20Descent%20Logistic%20Regression.pdf)"
      ]
    }
  ]
}